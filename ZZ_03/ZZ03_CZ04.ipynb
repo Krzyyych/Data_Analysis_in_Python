{
 "cells": [
  {
   "cell_type": "markdown",
   "id": "9cf5962f",
   "metadata": {
    "deletable": false,
    "editable": false,
    "nbgrader": {
     "cell_type": "markdown",
     "checksum": "4d87ed846e09cbf1c8eae4e0f16bea9b",
     "grade": false,
     "grade_id": "cell-fcd2666579131b77",
     "locked": true,
     "schema_version": 3,
     "solution": false,
     "task": false
    },
    "tags": []
   },
   "source": [
    "# Analiza danych w języku Python - ćwiczenia laboratoryjne 2022/2023\n",
    "\n",
    "Ten notatnik zalicza się do grupy zestawów zadań, na podstawie których odbywa się zaliczenie ćwiczeń i podlega zwrotowi do oceny w ustalonym na zajęciach terminie.\n",
    "\n",
    "Uwagi i wytyczne ogólne dotyczące uzupełniania i oceny notatnika:\n",
    "- Podczas wykonywania zadań należy korzystać wyłącznie z pakietów zaimportowanych na początku notatnika oraz z pakietów wchodzących w skład standardowej biblioteki Pythona, które można zaimportować samodzielnie we wskazanej komórce notatnika.\n",
    "- Swoje rozwiązania należy wprowadzać wyłącznie w miejce następujących fragmentów kodu:<br/> `# YOUR CODE HERE`<br/> `raise NotImplementedError()`<br/> \n",
    "a odpowiedzi tekstowe w komórkach oznaczonych hasłem:<br/> \n",
    "`YOUR ANSWER HERE`<br/> \n",
    "Nie należy w żaden sposób modyfikować pozostałych fragmentów kodu oraz innych elementów notatnika, w szczególności dodawać lub usuwać komórek oraz zmieniać nazwy pliku.\n",
    "- Jeżeli zestaw zadań wymaga skorzystania z fragmentów kodu opracowanego w ramach wcześniejszych zestawów zadań należy je umieścić we wskazanej komórce notatnika.\n",
    "- Otrzymywane wyniki i odpowiedzi mają być rezultatem wykonania napisanego kodu, odpowiedzi uzupełniane manualnie nie podlegają ocenie.\n",
    "- Zadanie należy wykonać w taki sposób, aby podczas wykonywania kodu nie zostały wyświetlone żadne ostrzeżenia.\n",
    "- Zawarte w notatniku automatyczne testy mają charakter poglądowy. Dotyczą one wybranych aspektów zadań i mają za zadanie wyłapać podstawowe błędy. Przejście wszystkich testów nie oznacza, że zadanie jest wykonane w całości poprawnie i zostanie ocenione na maksymalną liczbę punktów.\n",
    "- Zadania, które powodują wyświetlenie komunikatu o błędzie przerywającym wykonywanie kodu nie podlegają ocenie.\n",
    "\n",
    "Uwagi i wytyczne ogólne dotyczące wizualizacji wyników:\n",
    "- Wszystkie wykresy powinny być wykonane w jednolitym, przejrzystym i czytelnym stylu, posiadać odpowiednio dobrane proporcje i zakresy wartości osi.\n",
    "- Wykresy oraz ich osie powinny mieć nadane tytuły. Jeżeli w obrębie figury znajduje się więcej niż jeden wykres to figura również powinna mieć nadany tytuł. \n",
    "- Figury powinny mieć ustawione białe tło, tak, aby niezależnie od ustawień notatnika wszystkie elementy wykresów były dobrze widoczne (domyślnie tło jest przeźroczyste co może powodować problemy w notatnikach z ustawionym ciemnym tłem).\n",
    "- Rozmiar poziomy figur nie powinien przekraczać 20 cali.\n",
    "\n",
    "Przed odesłaniem zestawu zadań do oceny proszę uzupełnić komórkę z danymi autorów rozwiązania (`NAME` - nazwa zespołu, `COLLABORATORS` - imiona, nazwiska i numery indeksów członków zespołu) oraz upewnić się, że notatnik działa zgodnie z oczekiwaniami. W tym celu należy skorzystać z opcji **Restart Kernel and Run All Cells...** dostępnej na górnej belce notatnika pod symbolem $\\blacktriangleright\\blacktriangleright$."
   ]
  },
  {
   "cell_type": "code",
   "execution_count": null,
   "id": "c986566b",
   "metadata": {},
   "outputs": [],
   "source": [
    "NAME = \"IAD11 Szefowie\"\n",
    "COLLABORATORS = \"Michał Kosowski, Krzysztof Kowalski\""
   ]
  },
  {
   "cell_type": "markdown",
   "id": "40e8aab2",
   "metadata": {
    "deletable": false,
    "editable": false,
    "nbgrader": {
     "cell_type": "markdown",
     "checksum": "eddc8826810e4a6f7bf68319da334bd9",
     "grade": false,
     "grade_id": "cell-109006d425e5cf83",
     "locked": true,
     "schema_version": 3,
     "solution": false,
     "task": false
    },
    "tags": []
   },
   "source": [
    "---"
   ]
  },
  {
   "cell_type": "markdown",
   "id": "3dc8b5f1-8b22-4781-876f-27826679533d",
   "metadata": {
    "deletable": false,
    "editable": false,
    "nbgrader": {
     "cell_type": "markdown",
     "checksum": "cf47339c6e0a9533830524800e5ebaa3",
     "grade": false,
     "grade_id": "cell-a12f05a1065ccf65",
     "locked": true,
     "schema_version": 3,
     "solution": false,
     "task": false
    },
    "tags": []
   },
   "source": [
    "## Zestaw zadań 3: Elementy statystyki opisowej 3 (Notatnik 4/4)"
   ]
  },
  {
   "cell_type": "code",
   "execution_count": null,
   "id": "a0f0ba49-958b-41f6-befc-cf77d7364345",
   "metadata": {
    "deletable": false,
    "editable": false,
    "nbgrader": {
     "cell_type": "code",
     "checksum": "9c1f9f1a79efb2ea5cdbaa8129434777",
     "grade": false,
     "grade_id": "cell-50608d099c9a113d",
     "locked": true,
     "schema_version": 3,
     "solution": false,
     "task": false
    },
    "tags": []
   },
   "outputs": [],
   "source": [
    "import numpy as np\n",
    "import pandas as pd\n",
    "import scipy as sp\n",
    "import matplotlib as mpl\n",
    "import matplotlib.pyplot as plt\n",
    "import seaborn as sns\n",
    "import dataframe_image as dfi"
   ]
  },
  {
   "cell_type": "code",
   "execution_count": null,
   "id": "3afcbcf4-e4a1-4435-a432-bbc51129910d",
   "metadata": {
    "tags": []
   },
   "outputs": [],
   "source": [
    "# Miejsce do importu pakietów wchodzących w skład standardowej biblioteki Pythona oraz ustawienie opcji wykorzystywanych pakietów"
   ]
  },
  {
   "cell_type": "markdown",
   "id": "73cb2852-79f3-4f76-9303-a091a9be7623",
   "metadata": {
    "deletable": false,
    "editable": false,
    "nbgrader": {
     "cell_type": "markdown",
     "checksum": "c8a3387fecf14ec08412e86c0b053249",
     "grade": false,
     "grade_id": "cell-7e0c91af7d9408af",
     "locked": true,
     "schema_version": 3,
     "solution": false,
     "task": false
    },
    "tags": []
   },
   "source": [
    "### Zadanie 6: Analiza wyników [15 pkt]\n",
    "Scharakteryzuj ruch rowerowy moście Fremont Bridge w Seattle w 2022 roku na podstawie wyników analizy przeprowadzonej we wcześniejszych zadaniach zgodnie z poniższymi wytycznymi:\n",
    "- Umieść treść analizy w pojedynczej komórce Markdown. Oprócz tekstu wklej do niej wszystkie wykresy i tablice, do których odnosi się analiza.\n",
    "- Zawrzyj w analizie wnioski odnośnie zmian w natężeniu ruchu rowerowego w ciągu roku, w poszczególnych dniach tygodnia, w dni robocze i weekendy (tygodniowy charakter ruchu) oraz w poszczególnych godzinach z podziałem na dni robocze i weekendy (dzienny charakter ruchu).\n",
    "- Jeżeli dane wskazują na różnicę w charakterze ruchu pomiędzy wschodnią i zachodnią stroną mostu należy zawrzeć w analizie tę informację oraz wyciągnięte na jej podstawie wnioski.\n",
    "- Dokonaj analizy wpływu pogody na natężenie ruchu rowerowego.\n",
    "- Nie ograniczaj się wyłącznie do stwierdzeń typu \"średnia liczba osób przejeżdżających przez most w poniedziałki była niższa niż średnia liczba osób przejeżdżających przez most we wtorki\", tam gdzie to możliwe spróbuj wyciągnąć szersze, dalej idące wnioski o badanym zjawisku.\n",
    "- Wskaż problemy w analizie przeprowadzonej w ramach wykonanych wcześniej zadań i zaproponuj jakie zmiany należy do niej wprowadzić w celu ich rozwiązania.\n",
    "- Jeżeli widzisz taką potrzebę możesz wygenerować dodatkowe tablice i grafiki, w takim przypadku generujący je kod powinien zostać umieszczony w komórce poprzedzającej komórkę z treścią analizy.\n",
    "\n",
    "Wskazówki dotyczące pozyskiwania i wklejania grafik do komórki markdown:\n",
    "- przygotowane wykresy można zapisać do plików za pomocą kodu: `fig.savefig('image.png')`, gdzie `fig` to zmienna zawierająca wykres przygotowany z wykorzystaniem `plt.subplots()`, a `'image.png'` to nazwa pliku, do którego ma zostać zapisana.\n",
    "- przygotowane tablice można zapisać do plików za pomocą kodu: `dfi.export(styled_df, 'df.png')`, gdzie `styled_df` to zmienna zawierająca odpowiednio sformatowaną tablicę, a `'df.png'` to nazwa pliku, do którego ma zostać zapisana.\n",
    "- zapisane do plików grafiki można wklejać do komórki markdown za pomocą następującej formuły: `![](table.png)`, gdzie `table.png` to nazwa pliku, do którego ma zostać wstawiony do komórki.\n",
    "\n",
    "Po wygenerowaniu plików z grafikami nie należy uzuwać z notatników kodu wykorzystanego podczas ich przygotowywania, w tym formuł `fig.savefig()` i `dfi.export()`."
   ]
  },
  {
   "cell_type": "code",
   "execution_count": null,
   "id": "e789ed69-15b2-4b3e-8ff0-41e7137b6f60",
   "metadata": {
    "tags": []
   },
   "outputs": [],
   "source": [
    "# Miejsce na dodatkowy kod\n"
   ]
  },
  {
   "cell_type": "markdown",
   "id": "79045acb-3c92-4e3e-a418-d020c5375d69",
   "metadata": {
    "deletable": false,
    "nbgrader": {
     "cell_type": "markdown",
     "checksum": "aeaa48637c159e037354ad072c54f33c",
     "grade": true,
     "grade_id": "cell-152c404baa500092",
     "locked": false,
     "points": 15,
     "schema_version": 3,
     "solution": true,
     "task": false
    },
    "tags": []
   },
   "source": [
    "## Charakteryzacja ruchu rowerowego na moście Fremont Bridge w Seattle w 2022 roku na podstawie danych rowerowych i pogodowych\n",
    "\n",
    "<div style=\"text-align:center\">\n",
    "  <img src=\"most.jpg\">\n",
    "    <figcaption style=\"text-align:center\"><b>Most Fremont Bridge w Seattle</b></figcaption>\n",
    "</div>\n",
    "<br><br>\n",
    "\n",
    "**Zacznijmy od wstępnej analizy danych rowerowych**\n",
    "\n",
    "Można zauważyć, że ruch rowerowy jest znacznie intensywniejszy w dni robocze, aniżeli w weekendy. Intensywniejszy jest również po zachodniej stronie mostu. Może to wynikać z tego, że most służy głównie podróżom do pracy/szkoły/uniwersytetu, a nie do podróży rekreacyjnych. Dalsza analiza być może pomoże potwierdzić lub obalić naszą tezę.\n",
    "<br>\n",
    "<div style=\"text-align:center\">\n",
    "  <img src=\"cz2_tabela_dzienna_srednia_rowerowe.png\">\n",
    "    <figcaption style=\"text-align:center\"><b>Średnia ilość rowerzystów z podziałem na dni tygodnia</b></figcaption>\n",
    "</div>\n",
    "<br><br>\n",
    "Dodatkowym potwierdzeniem naszej tezy odnośnie małej ilości podrózy rekreacyjnym jest położenie mostu. Znajduję się on w znacznej odległości od centrum miasta, a co za tym idzie staję się lokacją niechętnie wybieraną do hobbystycznych podróży. Znajduję się on również przy ruchliwej drodze a do rowerowych wycieczek wybiera się lokacje ciche i spokojne, z małym ruchem samochodowym. Dodatkowo obok Seattle znajduję się ogromna zatoka, tereny wzdłuż zatoki wydają się być naturalnym wyborem do aktywnego spędzenia wolnego czasu.\n",
    "<br><br>\n",
    "<div style=\"text-align:center\">\n",
    "  <img src=\"mapa_most.png\">\n",
    "    <figcaption style=\"text-align:center\"><b>Lokalizacja mostu na mapie</b></figcaption>\n",
    "</div>\n",
    "<br><br>\n",
    "\n",
    "Przyglądając się danych bliżej (z podziałem na godziny w dni robocze i weekendowe) można zauważyć ewidentną zależność. W dni robocze największy ruch jest obserwowany w godzinach 7:00 – 9:00 oraz 15:00 – 19:00 czyli w okolicach startu oraz zakończenia pracy w pobliskich biurowcach. Nie jesteśmy w stanie określić powodu dla którego ruch jest wzmożony po zachodniej stronie mostu, widać jednak ewidentne anomalie.\n",
    "<br>\n",
    "<div style=\"text-align:center\">\n",
    "  <img src=\"cz2_tabela_weekendy_rowerowe.png\">\n",
    "    <figcaption style=\"text-align:center\"><b>Średnia godzinowa ilość rowerzystów w weekendy</b></figcaption>\n",
    "</div>\n",
    "<br><br>\n",
    "\n",
    "Jeśli chodzi o wykres prezentujący liczbę rowerzystów przejeżdżających przez most w poszczególnych dniach roku, można ewidentnie zauważyć, że wzrost liczb jest ściśle powiązany z porami roku – w zimie spadek jeżdżących, wiosna wzrost, lato peak i jesień znowu spadek. Jeśli chodzi o wyniki w poszczególnych dniach tygodnia, można zauważyć, że w okolicach poniedziałku, z zapałem rowerzystów jest najgorzej później jednak widać skokowy wzrost i powolny spadek aż do kolejnego poniedziałku – uważamy, że na spadek w kolejnych dniach tygodnia może mieć wpływ humor i zmęczenie ludzi.\n",
    " \n",
    "\n",
    "Co do reprezentacji godzin w poszczególne dni robocze to potwierdza się to co mówiliśmy już wcześniej, największe natężenie rowerzystów można zauważyć w godzinach startu i zakończenia pracy w firmach w Seatlle. Co do weekendów najwyższe wyniki można zaobserwować w godzinach lunch/po lunchowych, można więc domniemywać, że rowerowe wycieczki w weekendy mają charakter czysto rekreacyjny.\n",
    "<br>\n",
    "<div style=\"text-align:center\">\n",
    "  <img src=\"cz2_wykresy_rowerowe.png\">\n",
    "    <figcaption style=\"text-align:center\"><b>Wykresy danych rowerowe</b></figcaption>\n",
    "</div>\n",
    "<br><br>\n",
    "\n",
    "**Przejdźmy teraz do początkowej analizy danych pogodowych**\n",
    "\n",
    "Dzięki danym pogodowym można zobaczyć, że Seatlle znajduję się w klimacie umiarkowanym z niezbyt zimną zimą oraz dosyć ciepłym latem. Charakteryzuje się również praktycznie brakiem utrzymywania się pokrywy śnieżnej nawet jeśli występują opady śniegu. W porównaniu do Polski w rejonie tym średnia temperatura miesięczna jest wyższa. Dodatkowo występuje tam niespodziewanie wysokie zachmurzenie na przestrzeni całego roku (z lekkim spadkiem w miesiącach letnich) przy niedużych opadach atmosferycznych.\n",
    "\n",
    "<br>\n",
    "<div style=\"text-align:center\">\n",
    "  <img src=\"cz2_tabela_pogodowe.png\">\n",
    "    <figcaption style=\"text-align:center\"><b>Miesięczne informacje pogodowe</b></figcaption>\n",
    "</div>\n",
    "\n",
    "<br><br>\n",
    "\n",
    "Wizualizacji tabeli z poprzedniego akapitu. Widać, że prędkość wiatru waha się cały rok pomiędzy poziomami lekko ustając w lecie. Można zauważyć, że miasto charakteryzuje się również sporym zachmurzeniem praktycznie przez cały rok co może zniechęcać do jazdy na rowerze. Spadek zachmurzenia można zaobserwować w miesiącach letnich.\n",
    "<br>\n",
    "\n",
    "<div style=\"text-align:center\">\n",
    "  <img src=\"cz2_wykresy_pogodowe.png\">\n",
    "    <figcaption style=\"text-align:center\"><b>Wykresy danych pogodowych</b></figcaption>\n",
    "</div>\n",
    "<br><br>\n",
    "\n",
    "Stworzyliśmy wykres korelacji, na którym można zauważyć, że co prawda to wschodnia część mostu jest bardziej nasłoneczniona (przez co temperatura jest wyższa) jednak czynnikiem determinującym może być wiatr odczuwalny na poszczególnych częściach mostu – tutaj przewaga zachodniej części na której prędkości są niżej skorelowane niż dla części wschodniej. Różnice są niewielkie jednak mogą mieć znaczący wpływ.\n",
    "<br>\n",
    "<div style=\"text-align:center\">\n",
    "  <img src=\"cz3_wykresy_korelacja_1.png\">\n",
    "    <figcaption style=\"text-align:center\"><b>Tabele korelacji między parametrami danych pogodowych i rowerowych</b></figcaption>\n",
    "</div>\n",
    "<br><br>\n",
    "Jako ostatnie sprawdziliśmy korelacje czynników pogodowych i nie odkryliśmy dzięki nim Ameryki jednak dobitnie pokazaliśmy, że istnieją mocno powiązane ze sobą dane takie jak zachmurzenie oraz średnia temperatura, czynniki te mają też (jak ustaliliśmy wcześniej) decydujący wpływ na ilość rowerzystów przejeżdżających przez most. Dość oczywistą sprawą jest również korelacja zachmurzenia oraz opadów, które również (nawet patrząc na osobiste doświadczenie) mają wpływ na chęć jazdy na rowerze.\n",
    "\n",
    "<br>\n",
    "<div style=\"text-align:center\">\n",
    "  <img src=\"cz3_wykresy_korelacja_2.png\">\n",
    "    <figcaption style=\"text-align:center\"><b>Tabele korelacji między parametrami danych pogodowych</b></figcaption>\n",
    "</div>\n",
    "<br><br>\n",
    "\n",
    "Poniżej widoczne są dopasowane linie obrazujące zmiany ilości rowerzystów w zależności od wzrostu któregoś z czynników pogodowych. Niektóre z dopasowanych krzywych obrazują wzrost rowerzystów w zależności od wzrostu czynnika atmosferycznego. Dzieje się tak dla temperatury (minimalnej, średniej i maksymalnej). Rowerzyści chętniej sięgają za swój jednoślad gdy temperatura jest wyższa. W przypadku wiatru, deszczu oraz śniegu widzimy odwrotny skutek. Linia ukazuje, że wraz ze wzostem czynnika pogodowego ilość rowerzystów spada. Wydaje się to być prawidłowym zjawiskiem. Podczas wiatru, czy opadów tylko najbardziej zagorzali rowerzyści wsiadają za kółko. Pozostali (mniej odporni na pogodowe anomalie) wybierają samochód, komunikacje miejską lub pozostanie w domu.\n",
    "<br>\n",
    "<div style=\"text-align:center\">\n",
    "  <img src=\"cz3_wykresy_regresja_liniowa.png\">\n",
    "    <figcaption style=\"text-align:center\"><b>Dopasowana linia do danych pogodowych i rowerowych</b></figcaption>\n",
    "</div>\n",
    "<br><br>\n",
    "\n",
    "Dopasowana krzywa obrazująca zależność pomiędzy ilością rowerów, a zachmurzeniem (wraz ze wzrostem zachmurzenia, spada ilość rowerzystów, co wydaje się logiczne i uzasadnione) oraz krzywa obrazująca zależność pomiędzy ilością rowerzystów, a ilością opadów (tutaj analogicznie jak przy drugiej dopasowanej krzywej wzrost ilości opadów sprawia, że spada ilość opadów jeszcze drastyczniej niż w przypadku zachmurzenia).\n",
    "<br>\n",
    "<div style=\"text-align:center\">\n",
    "  <img src=\"cz3_wykresy_regresja_krzywoliniowa.png\">\n",
    "    <figcaption style=\"text-align:center\"><b>Dopasowana krzywa do danych pogodowych i rowerowych</b></figcaption>\n",
    "</div>\n",
    "\n",
    "\n",
    "\n"
   ]
  },
  {
   "cell_type": "code",
   "execution_count": null,
   "id": "beedc375-ee0e-437f-afdf-58acde25abdb",
   "metadata": {},
   "outputs": [],
   "source": []
  }
 ],
 "metadata": {
  "kernelspec": {
   "display_name": "Python 3 (ipykernel)",
   "language": "python",
   "name": "python3"
  },
  "language_info": {
   "codemirror_mode": {
    "name": "ipython",
    "version": 3
   },
   "file_extension": ".py",
   "mimetype": "text/x-python",
   "name": "python",
   "nbconvert_exporter": "python",
   "pygments_lexer": "ipython3",
   "version": "3.9.13"
  }
 },
 "nbformat": 4,
 "nbformat_minor": 5
}
