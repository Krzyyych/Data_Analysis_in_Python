{
 "cells": [
  {
   "cell_type": "markdown",
   "id": "4ac587d6",
   "metadata": {
    "deletable": false,
    "editable": false,
    "nbgrader": {
     "cell_type": "markdown",
     "checksum": "4d87ed846e09cbf1c8eae4e0f16bea9b",
     "grade": false,
     "grade_id": "cell-fcd2666579131b77",
     "locked": true,
     "schema_version": 3,
     "solution": false,
     "task": false
    },
    "tags": []
   },
   "source": [
    "# Analiza danych w języku Python - ćwiczenia laboratoryjne 2022/2023\n",
    "\n",
    "Ten notatnik zalicza się do grupy zestawów zadań, na podstawie których odbywa się zaliczenie ćwiczeń i podlega zwrotowi do oceny w ustalonym na zajęciach terminie.\n",
    "\n",
    "Uwagi i wytyczne ogólne dotyczące uzupełniania i oceny notatnika:\n",
    "- Podczas wykonywania zadań należy korzystać wyłącznie z pakietów zaimportowanych na początku notatnika oraz z pakietów wchodzących w skład standardowej biblioteki Pythona, które można zaimportować samodzielnie we wskazanej komórce notatnika.\n",
    "- Swoje rozwiązania należy wprowadzać wyłącznie w miejce następujących fragmentów kodu:<br/> `# YOUR CODE HERE`<br/> `raise NotImplementedError()`<br/> \n",
    "a odpowiedzi tekstowe w komórkach oznaczonych hasłem:<br/> \n",
    "`YOUR ANSWER HERE`<br/> \n",
    "Nie należy w żaden sposób modyfikować pozostałych fragmentów kodu oraz innych elementów notatnika, w szczególności dodawać lub usuwać komórek oraz zmieniać nazwy pliku.\n",
    "- Jeżeli zestaw zadań wymaga skorzystania z fragmentów kodu opracowanego w ramach wcześniejszych zestawów zadań należy je umieścić we wskazanej komórce notatnika.\n",
    "- Otrzymywane wyniki i odpowiedzi mają być rezultatem wykonania napisanego kodu, odpowiedzi uzupełniane manualnie nie podlegają ocenie.\n",
    "- Zadanie należy wykonać w taki sposób, aby podczas wykonywania kodu nie zostały wyświetlone żadne ostrzeżenia.\n",
    "- Zawarte w notatniku automatyczne testy mają charakter poglądowy. Dotyczą one wybranych aspektów zadań i mają za zadanie wyłapać podstawowe błędy. Przejście wszystkich testów nie oznacza, że zadanie jest wykonane w całości poprawnie i zostanie ocenione na maksymalną liczbę punktów.\n",
    "- Zadania, które powodują wyświetlenie komunikatu o błędzie przerywającym wykonywanie kodu nie podlegają ocenie.\n",
    "\n",
    "Uwagi i wytyczne ogólne dotyczące wizualizacji wyników:\n",
    "- Wszystkie wykresy powinny być wykonane w jednolitym, przejrzystym i czytelnym stylu, posiadać odpowiednio dobrane proporcje i zakresy wartości osi.\n",
    "- Wykresy oraz ich osie powinny mieć nadane tytuły. Jeżeli w obrębie figury znajduje się więcej niż jeden wykres to figura również powinna mieć nadany tytuł. \n",
    "- Figury powinny mieć ustawione białe tło, tak, aby niezależnie od ustawień notatnika wszystkie elementy wykresów były dobrze widoczne (domyślnie tło jest przeźroczyste co może powodować problemy w notatnikach z ustawionym ciemnym tłem).\n",
    "- Rozmiar poziomy figur nie powinien przekraczać 20 cali.\n",
    "\n",
    "Przed odesłaniem zestawu zadań do oceny proszę uzupełnić komórkę z danymi autorów rozwiązania (`NAME` - nazwa zespołu, `COLLABORATORS` - imiona, nazwiska i numery indeksów członków zespołu) oraz upewnić się, że notatnik działa zgodnie z oczekiwaniami. W tym celu należy skorzystać z opcji **Restart Kernel and Run All Cells...** dostępnej na górnej belce notatnika pod symbolem $\\blacktriangleright\\blacktriangleright$."
   ]
  },
  {
   "cell_type": "code",
   "execution_count": 2,
   "id": "a26c11db",
   "metadata": {},
   "outputs": [],
   "source": [
    "NAME = \"IAD11 Szefowie\"\n",
    "COLLABORATORS = \"Michał Kosowski, Krzysztof Kowalski\""
   ]
  },
  {
   "cell_type": "markdown",
   "id": "d00cbbeb",
   "metadata": {
    "deletable": false,
    "editable": false,
    "nbgrader": {
     "cell_type": "markdown",
     "checksum": "eddc8826810e4a6f7bf68319da334bd9",
     "grade": false,
     "grade_id": "cell-109006d425e5cf83",
     "locked": true,
     "schema_version": 3,
     "solution": false,
     "task": false
    },
    "tags": []
   },
   "source": [
    "---"
   ]
  },
  {
   "cell_type": "markdown",
   "id": "3dc8b5f1-8b22-4781-876f-27826679533d",
   "metadata": {
    "deletable": false,
    "editable": false,
    "nbgrader": {
     "cell_type": "markdown",
     "checksum": "3cc8e0af44c671714a0db4b7877d5ad4",
     "grade": false,
     "grade_id": "cell-a12f05a1065ccf65",
     "locked": true,
     "schema_version": 3,
     "solution": false,
     "task": false
    },
    "tags": []
   },
   "source": [
    "## Zestaw zadań 2: Elementy statystyki opisowej 2 (Notatnik 4/4)"
   ]
  },
  {
   "cell_type": "code",
   "execution_count": 3,
   "id": "a0f0ba49-958b-41f6-befc-cf77d7364345",
   "metadata": {
    "deletable": false,
    "editable": false,
    "nbgrader": {
     "cell_type": "code",
     "checksum": "9c1f9f1a79efb2ea5cdbaa8129434777",
     "grade": false,
     "grade_id": "cell-50608d099c9a113d",
     "locked": true,
     "schema_version": 3,
     "solution": false,
     "task": false
    },
    "tags": []
   },
   "outputs": [],
   "source": [
    "import numpy as np\n",
    "import pandas as pd\n",
    "import scipy as sp\n",
    "import matplotlib as mpl\n",
    "import matplotlib.pyplot as plt\n",
    "import seaborn as sns\n",
    "import dataframe_image as dfi"
   ]
  },
  {
   "cell_type": "code",
   "execution_count": 4,
   "id": "3afcbcf4-e4a1-4435-a432-bbc51129910d",
   "metadata": {
    "tags": []
   },
   "outputs": [],
   "source": [
    "# Miejsce do importu pakietów wchodzących w skład standardowej biblioteki Pythona oraz ustawienie opcji wykorzystywanych pakietów"
   ]
  },
  {
   "cell_type": "markdown",
   "id": "73cb2852-79f3-4f76-9303-a091a9be7623",
   "metadata": {
    "deletable": false,
    "editable": false,
    "nbgrader": {
     "cell_type": "markdown",
     "checksum": "da4a3fda1a35149f6b8e192efb4f338c",
     "grade": false,
     "grade_id": "cell-7e0c91af7d9408af",
     "locked": true,
     "schema_version": 3,
     "solution": false,
     "task": false
    },
    "tags": []
   },
   "source": [
    "### Zadanie 6: Analiza wyników [15 pkt]\n",
    "Scharakteryzuj przebieg kryzysu ekonomicznego 2008-2009 na podstawie wyników analizy przeprowadzonej we wcześniejszych zadaniach zgodnie z poniższymi wytycznymi:\n",
    "- Umieść treść analizy w pojedynczej komórce Markdown. Oprócz tekstu wklej do niej wszystkie wykresy i tablice, do których odnosi się analiza.\n",
    "- W analizie oprzyj się przede wszystkim o tablice i grafiki przygotowane w ramach zadań 2-4. Nie wykorzystuj w analizie elementów przygotowanych w ramach zadania 5. Ma ono wyłącznie charakter demonstracji jak należy pracować, gdy nie są dostępne dane szczegółowe.\n",
    "- Nie powielaj elementów zawierających te same informacje (np. wykorzystanie wielu grafik z zadania 3b),\n",
    "- Zawrzyj w analizie wnioski odnośnie tego jak przebiegał kryzys w ujęciu ogólnoświatowym jak i wnioski odnoszące się do poszczególnych rejonów geograficznych i grup państw o zbliżonym stopniu zamożności (np. różnice i podobieństwa w tym, jak różne grupy państw przechodziły kryzys).\n",
    "- Analizując dane rozważ ich tendencję centralną, skupienie, koncentrację oraz asymetrię,\n",
    "- Nie ograniczaj się wyłącznie do stwierdzeń typu \"średnia wartość parametru GDP growth (annual %) jest najniższa w roku 2009\", tam gdzie to możliwe spróbuj wyciągnąć szersze, dalej idące wnioski o badanym zjawisku.\n",
    "- Wskaż problemy w analizie przeprowadzonej w ramach wykonanych wcześniej zadań i zaproponuj jakie zmiany należy do niej wprowadzić w celu ich rozwiązania.\n",
    "- Jeżeli widzisz taką potrzebę możesz wygenerować dodatkowe tablice i grafiki, w takim przypadku generujący je kod powinien zostać umieszczony w komórce poprzedzającej komórkę z treścią analizy.\n",
    "\n",
    "Wskazówki dotyczące pozyskiwania i wklejania grafik do komórki markdown:\n",
    "- przygotowane wykresy można zapisać do plików za pomocą kodu: `fig.savefig('image.png')`, gdzie `fig` to zmienna zawierająca wykres przygotowany z wykorzystaniem `plt.subplots()`, a `'image.png'` to nazwa pliku, do którego ma zostać zapisana.\n",
    "- przygotowane tablice można zapisać do plików za pomocą kodu: `dfi.export(styled_df, 'df.png')`, gdzie `styled_df` to zmienna zawierająca odpowiednio sformatowaną tablicę, a `'df.png'` to nazwa pliku, do którego ma zostać zapisana.\n",
    "- zapisane do plików grafiki można wklejać do komórki markdown za pomocą następującej formuły: `![](table.png)`, gdzie `table.png` to nazwa pliku, do którego ma zostać wstawiony do komórki.\n",
    "\n",
    "Po wygenerowaniu plików z grafikami nie należy uzuwać z notatników kodu wykorzystanego podczas ich przygotowywania, w tym formuł `fig.savefig()` i `dfi.export()`."
   ]
  },
  {
   "cell_type": "code",
   "execution_count": 12,
   "id": "e789ed69-15b2-4b3e-8ff0-41e7137b6f60",
   "metadata": {
    "tags": []
   },
   "outputs": [],
   "source": [
    "# Miejsce na dodatkowy kod\n",
    "recession_data_1=pd.read_csv(\"recession_data_1.csv\", index_col=\"Country Code\")\n",
    "#recession_data_1.sort_values('2009').tail(10)"
   ]
  },
  {
   "cell_type": "markdown",
   "id": "79045acb-3c92-4e3e-a418-d020c5375d69",
   "metadata": {
    "deletable": false,
    "nbgrader": {
     "cell_type": "markdown",
     "checksum": "aeaa48637c159e037354ad072c54f33c",
     "grade": true,
     "grade_id": "cell-152c404baa500092",
     "locked": false,
     "points": 15,
     "schema_version": 3,
     "solution": true,
     "task": false
    },
    "tags": []
   },
   "source": [
    "## Przeprowadziliśmy analizę wskaźnika wzrostu PKB (ang. GDP growth - annual %) w latach 2006-2011.\n",
    "\n",
    "Już po wstępnej analizie danych ekonomicznych, możemy zauważyć, że w roku 2008 i 2009 widoczne są anomalie.\n",
    "                \n",
    "<div style=\"text-align:center\">\n",
    "  <img src=\"s2.png\">\n",
    "    <figcaption style=\"text-align:center\"><b>Wstępna Analiza Danych Ekonomicznych</b></figcaption>\n",
    "</div>\n",
    "<br>\n",
    "W 2008 (szczyt kryzysu) roku wyraźnie widać wzrost ujemnych wartości PKB w porównaniu z poprzednimi latami. Rok 2009 (wpływ kryzysu 2008) jest najgorszym rokiem jeśli chodzi o ujemne wartości PKB, w tym roku występuje najwięcej takich wartości. Powodem kryzysu 2008 roku były absurdalne zaniedbania na rynku kredytów hipotecznych w Stanach Zjednoczonych. Punktem zapalnym do rozpoczęcia krzysu był upadek Lehman Brothers. To pociągneło za sobą lawinę bankructw w sektorze bankowym, która ekstrapolowała na rok 2009. Dodatkowo można zauważyć wzrost wzrostu PKB dla roku 2007 (najlepszy rok). Wzrost ten jest sztucznie wywołany poprzez inwestorów i instytutcje, które niechcać dopuścić do kryzysu (który i tak nastąpił) manipulowali informacją i pompowali bańke na rynku mieszkaniowym, co objawiało się widocznym wzrostem i wysokimi cenami mieszkań.\n",
    "<br><br>\n",
    "<div style=\"text-align:center\">\n",
    "  <img src=\"zs1.jpg\">\n",
    "    <figcaption style=\"text-align:center\"><b>Bankructwo Lehman Brothers</b><br>https://www.thebalancemoney.com/lehman-brothers-collapse-causes-impact-4842338\"</figcaption>\n",
    "</div>\n",
    "<br>\n",
    "<div style=\"text-align:center\">\n",
    "  <img src=\"zs2.png\">\n",
    "  <figcaption style=\"text-align:center\"><b>Sztuczne pompowanie 2007</b><br>https://viewpoint.bnpparibas-am.com/how-the-ukraine-crisis-could-affect-global-food-sustainability/\"</figcaption>\n",
    "</div>\n",
    "<br><br>\n",
    "Przyglądając sie tym danym bliżej (dzieląc je na kontynenty) widzimy, że kontynentami objętymi kryzysem najbardziej były:\n",
    "<br>\n",
    "<b>Oceania</b> - rynek ten jest silnie uzależniony od handlu surowcami (np. ropa naftowa i węgiel), a podczas kryzysu wywołanego w 2008 można było zauwazyć gigantyczne spadki w notowaniach surowców, np. ropa naftowa ponad 60% spadku, węgiel 65% spadku. Ciekawostką jest, że cena złota w początkowych fazach kryzysu zaczeła spadać, ale ostatecznie wystrzeliła (z 630USD do 2000USD), jak wiadomo wiele osób inwestuje złoto podczas kryzysu, ponieważ złoto uważane jest za surowiec trzymający wartość.\n",
    "<br>\n",
    "<b>Ameryka</b> - jest tam największy sektor bankowy na świecie (a to w tym sektorze rozpoczął sie kryzys). Rynek Amerykański jest również jednym z największych rynków surowcowych (przypadek Oceanii).\n",
    "<br>\n",
    "<b>Europa</b> - gospodarki europejskich, a w szczególności sektor bankowy jest silnie uzależniony od rynku Amerykańskiego. Dodatkowo w Europie jest wiele strategicznych spółek giełdowych i światowych indeksów giełdowych, a one wszystkie na kryzysie ucierpiały.\n",
    "<br><br>\n",
    "<div style=\"text-align:center\">\n",
    "  <img src=\"s3.png\">\n",
    "    <figcaption style=\"text-align:center\"><b>Kryzys podzielony na kontynenty</b></figcaption>\n",
    "</div>\n",
    "<br><br>\n",
    "Zagłebiając się jeszcze bardziej (dzielimy dane na poziom zamożności krajów) widzimy, że kryzys na poszczególne grupy miał różny wpływ:\n",
    "<br>\n",
    "<b>kraje mało zamożne</b> - w krajach tych gospodarki nie są oparte na gigantycznych spółkach, które znacznie traciły na kryzysie. Ludzie w tych krajach albo nie posiadają oszczędności, więc nie inwestują w giełde, a pieniądze wydają na bieżące potrzeby, albo inwestują pieniądze w inne rzeczy niż giełda (np. w ziemie). Główny wpływ na PKB tego kraju wnosi sektor rolnictwa, a nie usług. \n",
    "<br>\n",
    "<b>kraje bogate</b> - ich systemy finansowe były zintegrowane z globalnym rynkiem finansowym i były narażone na ryzyko spowodowane niestabilnością innych krajów. Wiele z tych państw miało również nadmierne zadłużenie, co spowodowało, że były bardziej podatne na skutki kryzysu. Głównie w tych krajach znajdują się ogromne korporacje, które były najbardziej dotknięte kryzysem. Ludzie zamożniejsi częściej biorą kredyty (przez co zwiększa się globalne zadłużenie, które sprzyja pogłebianiu się kryzysu). Obywatele tych kraji skłonniej też inwestują swoje oszczędności na giełdzie.\n",
    "<br>\n",
    "<br>\n",
    "<br>\n",
    "<div style=\"text-align:center\">\n",
    "  <img src=\"s4.png\">\n",
    "  <figcaption style=\"text-align:center\"><b>Podział ze względu na zamożność kraju</b></figcaption>\n",
    "</div>\n",
    "\n",
    "<div style=\"text-align:center\">\n",
    "  <img src=\"cz2diagramy.png\">\n",
    "    <figcaption style=\"text-align:center\"><b>Wykres z podziałem na kontynenty i zamożność</b></figcaption>\n",
    "</div>\n",
    "<br>\n",
    "<br>\n",
    "<div style=\"text-align:center\">\n",
    "  <img src=\"s6.png\">\n",
    "    <figcaption style=\"text-align:center\"><b>Kraje z największym regresem PKB w 2009 roku</b></figcaption>\n",
    "</div>\n",
    "<br>\n",
    "<div style=\"text-align:center\">\n",
    "  <img src=\"s7.png\">\n",
    "    <figcaption style=\"text-align:center\"><b>Kraje z największym przyrostem PKB w 2009 roku</b></figcaption>\n",
    "</div>\n",
    "<br>\n",
    "<br>\n",
    "Analizując wartość średnią, można stwierdzić, że w 2009 roku PKB w wielu państwach znacznie spadło. Warto jednak porównać tę wartość z medianą, ponieważ rozkład danych nie jest zazwyczaj symetryczny. W 2009 roku tylko jedna wartość wpłynęła dodatnio na wynik. Chociaż można zauważyć, że nastąpiła recesja w wielu państwach, wartości PKB były w miarę skoncentrowane wokół średniej. Tylko 25% państw miało wzrost PKB powyżej 3,5%. W 2011 roku rozkład danych był najbliższy normalnemu, co oznacza, że większość państw miała już czas na odbudowę gospodarczą. Mimo to, kryzys spowolnił rozwój gospodarczy na całym świecie. W przypadku roku 2006 osiagnięta zostałą największa kurtoza z wszystkich badanych lat, co oznacza, że wartości były skupione wokół średniej. W latach 2006 i 2007 skośność była dodatnia, co wskazuje na asymetrię prawostronną, a zatem większą liczbę wartości odstających w kierunku wyższych wartości. W 2009 roku wystąpiło największe odchylenie standardowe, co oznacza, że niektóre państwa doświadczyły kryzysu bardziej niż inne.\n",
    "<br>\n",
    "<div style=\"text-align:center\">\n",
    "  <img src=\"s5.png\">\n",
    "    <figcaption style=\"text-align:center\"><b>Różne parametry statystyczne</b></figcaption>\n",
    "</div>"
   ]
  },
  {
   "cell_type": "code",
   "execution_count": null,
   "id": "4878b18e-1bc4-469a-b46a-beb7ab41582d",
   "metadata": {},
   "outputs": [],
   "source": []
  }
 ],
 "metadata": {
  "kernelspec": {
   "display_name": "Python 3 (ipykernel)",
   "language": "python",
   "name": "python3"
  },
  "language_info": {
   "codemirror_mode": {
    "name": "ipython",
    "version": 3
   },
   "file_extension": ".py",
   "mimetype": "text/x-python",
   "name": "python",
   "nbconvert_exporter": "python",
   "pygments_lexer": "ipython3",
   "version": "3.9.13"
  }
 },
 "nbformat": 4,
 "nbformat_minor": 5
}
