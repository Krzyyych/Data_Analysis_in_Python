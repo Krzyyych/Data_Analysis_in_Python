{
 "cells": [
  {
   "cell_type": "markdown",
   "id": "162d3e35",
   "metadata": {
    "deletable": false,
    "editable": false,
    "nbgrader": {
     "cell_type": "markdown",
     "checksum": "4d87ed846e09cbf1c8eae4e0f16bea9b",
     "grade": false,
     "grade_id": "cell-fcd2666579131b77",
     "locked": true,
     "schema_version": 3,
     "solution": false,
     "task": false
    },
    "tags": []
   },
   "source": [
    "# Analiza danych w języku Python - ćwiczenia laboratoryjne 2022/2023\n",
    "\n",
    "Ten notatnik zalicza się do grupy zestawów zadań, na podstawie których odbywa się zaliczenie ćwiczeń i podlega zwrotowi do oceny w ustalonym na zajęciach terminie.\n",
    "\n",
    "Uwagi i wytyczne ogólne dotyczące uzupełniania i oceny notatnika:\n",
    "- Podczas wykonywania zadań należy korzystać wyłącznie z pakietów zaimportowanych na początku notatnika oraz z pakietów wchodzących w skład standardowej biblioteki Pythona, które można zaimportować samodzielnie we wskazanej komórce notatnika.\n",
    "- Swoje rozwiązania należy wprowadzać wyłącznie w miejce następujących fragmentów kodu:<br/> `# YOUR CODE HERE`<br/> `raise NotImplementedError()`<br/> \n",
    "a odpowiedzi tekstowe w komórkach oznaczonych hasłem:<br/> \n",
    "`YOUR ANSWER HERE`<br/> \n",
    "Nie należy w żaden sposób modyfikować pozostałych fragmentów kodu oraz innych elementów notatnika, w szczególności dodawać lub usuwać komórek oraz zmieniać nazwy pliku.\n",
    "- Jeżeli zestaw zadań wymaga skorzystania z fragmentów kodu opracowanego w ramach wcześniejszych zestawów zadań należy je umieścić we wskazanej komórce notatnika.\n",
    "- Otrzymywane wyniki i odpowiedzi mają być rezultatem wykonania napisanego kodu, odpowiedzi uzupełniane manualnie nie podlegają ocenie.\n",
    "- Zadanie należy wykonać w taki sposób, aby podczas wykonywania kodu nie zostały wyświetlone żadne ostrzeżenia.\n",
    "- Zawarte w notatniku automatyczne testy mają charakter poglądowy. Dotyczą one wybranych aspektów zadań i mają za zadanie wyłapać podstawowe błędy. Przejście wszystkich testów nie oznacza, że zadanie jest wykonane w całości poprawnie i zostanie ocenione na maksymalną liczbę punktów.\n",
    "- Zadania, które powodują wyświetlenie komunikatu o błędzie przerywającym wykonywanie kodu nie podlegają ocenie.\n",
    "\n",
    "Uwagi i wytyczne ogólne dotyczące wizualizacji wyników:\n",
    "- Wszystkie wykresy powinny być wykonane w jednolitym, przejrzystym i czytelnym stylu, posiadać odpowiednio dobrane proporcje i zakresy wartości osi.\n",
    "- Wykresy oraz ich osie powinny mieć nadane tytuły. Jeżeli w obrębie figury znajduje się więcej niż jeden wykres to figura również powinna mieć nadany tytuł. \n",
    "- Figury powinny mieć ustawione białe tło, tak, aby niezależnie od ustawień notatnika wszystkie elementy wykresów były dobrze widoczne (domyślnie tło jest przeźroczyste co może powodować problemy w notatnikach z ustawionym ciemnym tłem).\n",
    "- Rozmiar poziomy figur nie powinien przekraczać 20 cali.\n",
    "\n",
    "Przed odesłaniem zestawu zadań do oceny proszę uzupełnić komórkę z danymi autorów rozwiązania (`NAME` - nazwa zespołu, `COLLABORATORS` - imiona, nazwiska i numery indeksów członków zespołu) oraz upewnić się, że notatnik działa zgodnie z oczekiwaniami. W tym celu należy skorzystać z opcji **Restart Kernel and Run All Cells...** dostępnej na górnej belce notatnika pod symbolem $\\blacktriangleright\\blacktriangleright$."
   ]
  },
  {
   "cell_type": "code",
   "execution_count": 1,
   "id": "29902ee8",
   "metadata": {},
   "outputs": [],
   "source": [
    "NAME = \"IAD11 Szefowie\"\n",
    "COLLABORATORS = \"Michał Kosowski, Krzysztof Kowalski\""
   ]
  },
  {
   "cell_type": "markdown",
   "id": "7dc7d5ac",
   "metadata": {
    "deletable": false,
    "editable": false,
    "nbgrader": {
     "cell_type": "markdown",
     "checksum": "eddc8826810e4a6f7bf68319da334bd9",
     "grade": false,
     "grade_id": "cell-109006d425e5cf83",
     "locked": true,
     "schema_version": 3,
     "solution": false,
     "task": false
    },
    "tags": []
   },
   "source": [
    "---"
   ]
  },
  {
   "cell_type": "markdown",
   "id": "3dc8b5f1-8b22-4781-876f-27826679533d",
   "metadata": {
    "deletable": false,
    "editable": false,
    "nbgrader": {
     "cell_type": "markdown",
     "checksum": "a068a28968a6b3cff36875b86660282b",
     "grade": false,
     "grade_id": "cell-a12f05a1065ccf65",
     "locked": true,
     "schema_version": 3,
     "solution": false,
     "task": false
    },
    "tags": []
   },
   "source": [
    "## Zestaw zadań 1: Elementy statystyki opisowej 1 (Notatnik 4/4)"
   ]
  },
  {
   "cell_type": "code",
   "execution_count": 2,
   "id": "a0f0ba49-958b-41f6-befc-cf77d7364345",
   "metadata": {
    "deletable": false,
    "editable": false,
    "nbgrader": {
     "cell_type": "code",
     "checksum": "9c1f9f1a79efb2ea5cdbaa8129434777",
     "grade": false,
     "grade_id": "cell-50608d099c9a113d",
     "locked": true,
     "schema_version": 3,
     "solution": false,
     "task": false
    },
    "tags": []
   },
   "outputs": [],
   "source": [
    "import numpy as np\n",
    "import pandas as pd\n",
    "import scipy as sp\n",
    "import matplotlib as mpl\n",
    "import matplotlib.pyplot as plt\n",
    "import seaborn as sns\n",
    "import dataframe_image as dfi"
   ]
  },
  {
   "cell_type": "code",
   "execution_count": 3,
   "id": "3afcbcf4-e4a1-4435-a432-bbc51129910d",
   "metadata": {
    "tags": []
   },
   "outputs": [],
   "source": [
    "# Miejsce do importu pakietów wchodzących w skład standardowej biblioteki Pythona oraz ustawienie opcji wykorzystywanych pakietów"
   ]
  },
  {
   "cell_type": "markdown",
   "id": "73cb2852-79f3-4f76-9303-a091a9be7623",
   "metadata": {
    "deletable": false,
    "editable": false,
    "nbgrader": {
     "cell_type": "markdown",
     "checksum": "11262c4b36981de4db8361e5aba36643",
     "grade": false,
     "grade_id": "cell-7e0c91af7d9408af",
     "locked": true,
     "schema_version": 3,
     "solution": false,
     "task": false
    },
    "tags": []
   },
   "source": [
    "### Zadanie 7: Analiza wyników [13 pkt]\n",
    "Scharakteryzuj wulkanizm ziemski na podstawie wyników analizy przeprowadzonej we wcześniejszych zadaniach zgodnie z poniższymi wytycznymi:\n",
    "- Umieść treść analizy w pojedynczej komórce Markdown. Oprócz tekstu wklej do niej wszystkie wykresy i tablice, do których odnosi się analiza.\n",
    "- W analizie oprzyj się przede wszystkim o tablice i grafiki przygotowane w ramach zadań 4-6 (niezbędne minimum).\n",
    "- Nie ograniczaj się wyłącznie do stwierdzeń typu \"zostało zarejestrowanych więcej erupcji o wartości VEI 6 niż 7\", tam gdzie to możliwe spróbuj wyciągnąć szersze, dalej idące wnioski o badanym zjawisku.\n",
    "- Wskaż problemy w analizie przeprowadzonej w ramach wykonanych wcześniej zadań i zaproponuj jakie zmiany należy do niej wprowadzić w celu ich rozwiązania.\n",
    "- Jeżeli widzisz taką potrzebę możesz wygenerować dodatkowe tablice i grafiki, w takim przypadku generujący je kod powinien zostać umieszczony w komórce poprzedzającej komórkę z treścią analizy.\n",
    "\n",
    "Wskazówki dotyczące pozyskiwania i wklejania grafik do komórki markdown:\n",
    "- przygotowane wykresy można zapisać do plików za pomocą kodu: `fig.savefig('image.png')`, gdzie `fig` to zmienna zawierająca wykres przygotowany z wykorzystaniem plt.subplots(), a `'image.png'` to nazwa pliku, do którego ma zostać zapisana.\n",
    "- przygotowane tablice można zapisać do plików za pomocą kodu: `dfi.export(styled_df, 'df.png')`, gdzie `styled_df` to zmienna zawierająca odpowiednio sformatowaną tablicę, a `'df.png'` to nazwa pliku, do którego ma zostać zapisana.\n",
    "- zapisane do plików grafiki można wklejać do komórki markdown za pomocą następującej formuły: `![](table.png)`, gdzie `table.png` to nazwa pliku, do którego ma zostać wstawiony do komórki.\n",
    "\n",
    "Po wygenerowaniu plików z grafikami nie należy uzuwać z notatników kodu wykorzystanego podczas ich przygotowywania, w tym formuł `fig.savefig()` i `dfi.export()`."
   ]
  },
  {
   "cell_type": "code",
   "execution_count": 5,
   "id": "e789ed69-15b2-4b3e-8ff0-41e7137b6f60",
   "metadata": {
    "deletable": false,
    "nbgrader": {
     "cell_type": "code",
     "checksum": "cd1defe85c11b81f3bab287cb8e11697",
     "grade": true,
     "grade_id": "cell-06546aa663f7c060",
     "locked": false,
     "points": 0,
     "schema_version": 3,
     "solution": true,
     "task": false
    },
    "tags": []
   },
   "outputs": [],
   "source": [
    "# Miejsce na dodatkowy kod\n",
    "# YOUR CODE HERE\n",
    "#raise NotImplementedError()"
   ]
  },
  {
   "cell_type": "markdown",
   "id": "79045acb-3c92-4e3e-a418-d020c5375d69",
   "metadata": {
    "deletable": false,
    "nbgrader": {
     "cell_type": "markdown",
     "checksum": "a9cd4b09ab5139fd50e3b90a537a35a2",
     "grade": true,
     "grade_id": "cell-152c404baa500092",
     "locked": false,
     "points": 13,
     "schema_version": 3,
     "solution": true,
     "task": false
    },
    "tags": []
   },
   "source": [
    "YOUR ANSWER HERE\n",
    "## Analiza wulkanizmu ziemskiego na podstawie opracowanego zestawu danych \"raw_data.csv\"\n",
    "\n",
    "Patrząc na kolumne częstości erupcji wulkanów (tabela poniżej, kolumna \"f\") można zauważyć, że najczęściej występują erupcje o wartości VEI 0-4, z czego wyraźną przewagę mają erupcje o VEI równym 2. Najżadziej natomiast wystęują erupcje silne o VEI 6 i 7. Uważamy jednak (korzystając z innych źródeł informacji, że erupcji o VEI 0 i 1 powinno być więcej niż erupcji o VEI 2 - podejrzewamy więc, że małe erupcje mimo wystąpienia nie mają szansy zostać zarejestrowane co powoduje prym w \"rankingu\" erupcji o VEI równym 2.\n",
    "\n",
    "![](z1zad3.png)\n",
    "\n",
    "Zestawiając ze sobą nazwy oraz położenie geograficzne wulkanów, można wysnuć oczywisty wręcz wniosek, że największe zagęszczenie ich erupcji znajduje się na pograniczach płyt tektonicznych, co ciekawie ilustruje poniższa mapa.\n",
    "![](mapka.jpg)\n",
    "źródło: https://zywaplaneta.pl/trzesienia-ziemi-wulkany-przyczyny/\n",
    "\n",
    "\n",
    "Kolejnym wnioskiem jest to, że dużo bardziej wiarygodne są dane dotyczące erupcji o VEI>=4, spowodowane jest to ich siłą i skutkami, którę są łatwo rejestrowalne co ułatwia ich raportowanie. Na poparcie naszych wniosków prezentujemy poniższy histogram, na którym widać, że istnieje bardzo mało przypadków niepotwierdzonych erupcji o VEI=4, a brak niepotwierdzonych erupcji o VEI większym od 4.\n",
    "![](z1zad4.png)\n",
    "\n",
    "Ostatnim etapem naszej analizy jest wykres obrazujący przyrost zarejestrowanych erupcji w czasie (od 10 tys. lat p. n. e. do \n",
    "lat 2000 n. e.) oraz rozkład metod reejstracji tych danych na przestrzeni lat. Wydawałoby się, że obecnie mamy dużo więcej erupcji niż w latach poprzednich. Rzeczywistość jest jednak inna i zwiększone zagęszczenie rejestrowanych erupcji wynika to głównie z tego, że odnotowano drastyczny przyrost erupcji rejestrowanych dzięki obserwacji. Po obserwacji (jako najpopularniejszym sposobie rejestracji danych w obecnych czasach) występują metody izotopiczne (badanie składu skał pod względem pierwiastków) oraz korelacją. Praktycznie nie rejestruje się erupcji metodami sidereal i radiogenic. Dysproporcja między poszczególną ilością odnotowanych erupcji w skali VEI w rzeczywistości może być jeszcze większa. Wpływ na to ma fakt, że erupcje o indeksie VEI równym 7 mają ogromne skutki, co nawet przed naszą erą mogło być już zapisywane, tak samo dla indeksu równego 0 (te erupcje są typu hawajskiego - wylewanie się lawy), co też jest łatwe do udokumentowania. Pozostałe erupcje o innych indeksach w dawnych czasach mogły nie zostać udokumentowane przez pozostawione zapisy.\n",
    "![](z1zad6.png)\n",
    "\n",
    "\n"
   ]
  }
 ],
 "metadata": {
  "kernelspec": {
   "display_name": "Python 3 (ipykernel)",
   "language": "python",
   "name": "python3"
  },
  "language_info": {
   "codemirror_mode": {
    "name": "ipython",
    "version": 3
   },
   "file_extension": ".py",
   "mimetype": "text/x-python",
   "name": "python",
   "nbconvert_exporter": "python",
   "pygments_lexer": "ipython3",
   "version": "3.9.13"
  }
 },
 "nbformat": 4,
 "nbformat_minor": 5
}
